{
 "nbformat": 4,
 "nbformat_minor": 2,
 "metadata": {
  "language_info": {
   "name": "python",
   "codemirror_mode": {
    "name": "ipython",
    "version": 3
   },
   "version": "3.8.2-final"
  },
  "orig_nbformat": 2,
  "file_extension": ".py",
  "mimetype": "text/x-python",
  "name": "python",
  "npconvert_exporter": "python",
  "pygments_lexer": "ipython3",
  "version": 3,
  "kernelspec": {
   "name": "python38264bitkaggleconda95f794c9ef444468aaecf28af5097982",
   "display_name": "Python 3.8.2 64-bit ('kaggle': conda)"
  }
 },
 "cells": [
  {
   "cell_type": "code",
   "execution_count": 27,
   "metadata": {},
   "outputs": [
    {
     "output_type": "stream",
     "name": "stdout",
     "text": "totalPrice\ncount  6302.000000\nmean    141.682450\nstd      42.034496\nmin      20.000000\n25%     109.000000\n50%     152.000000\n75%     178.000000\nmax     199.000000\n"
    }
   ],
   "source": [
    "import pandas as pd\n",
    "pd.plotting.register_matplotlib_converters()\n",
    "import matplotlib.pyplot as plt\n",
    "%matplotlib inline\n",
    "import seaborn as sns; sns.set()\n",
    "import os \n",
    "import glob\n",
    "\n",
    "file_path = \"./data/20190520_hours.json\"\n",
    "all_json_list = []\n",
    "\n",
    "def get_all_json_files():\n",
    "    for root, dirs, files in os.walk(\"./data\"):\n",
    "        for file in files:\n",
    "            if file.endswith(\".json\"):                \n",
    "                file_name = os.path.join(root, file)\n",
    "                df = pd.read_json(file_name)\n",
    "                all_json_list.append(df)\n",
    "\n",
    "\n",
    "def reshape_data(data):\n",
    "    new_data = data.copy()    \n",
    "    # print(new_data.describe())\n",
    "    \n",
    "\n",
    "if __name__ == \"__main__\":\n",
    "    get_all_json_files()    \n",
    "    org_data = pd.concat(all_json_list,axis=0,ignore_index=True)    \n",
    "    reshape_data(org_data)\n",
    "    \n",
    "\n",
    "    \n"
   ]
  },
  {
   "cell_type": "code",
   "execution_count": null,
   "metadata": {},
   "outputs": [],
   "source": []
  },
  {
   "cell_type": "code",
   "execution_count": null,
   "metadata": {},
   "outputs": [],
   "source": []
  },
  {
   "cell_type": "code",
   "execution_count": null,
   "metadata": {},
   "outputs": [],
   "source": []
  }
 ]
}